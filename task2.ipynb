{
 "cells": [
  {
   "cell_type": "code",
   "execution_count": null,
   "id": "2dd2b093-b45b-47cd-8663-8a41893e0ec3",
   "metadata": {},
   "outputs": [],
   "source": [
    "import csv 0"
   ]
  },
  {
   "cell_type": "code",
   "execution_count": 3,
   "id": "0e2eead5-a868-4380-9681-31c1777b24af",
   "metadata": {},
   "outputs": [
    {
     "name": "stdout",
     "output_type": "stream",
     "text": [
      "<bound method DataFrame.info of       age     sex     bmi  children smoker     region      charges\n",
      "0      19  female  27.900         0    yes  southwest  16884.92400\n",
      "1      18    male  33.770         1     no  southeast   1725.55230\n",
      "2      28    male  33.000         3     no  southeast   4449.46200\n",
      "3      33    male  22.705         0     no  northwest  21984.47061\n",
      "4      32    male  28.880         0     no  northwest   3866.85520\n",
      "...   ...     ...     ...       ...    ...        ...          ...\n",
      "1333   50    male  30.970         3     no  northwest  10600.54830\n",
      "1334   18  female  31.920         0     no  northeast   2205.98080\n",
      "1335   18  female  36.850         0     no  southeast   1629.83350\n",
      "1336   21  female  25.800         0     no  southwest   2007.94500\n",
      "1337   61  female  29.070         0    yes  northwest  29141.36030\n",
      "\n",
      "[1338 rows x 7 columns]>\n",
      "(1338, 7)\n",
      "<bound method NDFrame.describe of       age     sex     bmi  children smoker     region      charges\n",
      "0      19  female  27.900         0    yes  southwest  16884.92400\n",
      "1      18    male  33.770         1     no  southeast   1725.55230\n",
      "2      28    male  33.000         3     no  southeast   4449.46200\n",
      "3      33    male  22.705         0     no  northwest  21984.47061\n",
      "4      32    male  28.880         0     no  northwest   3866.85520\n",
      "...   ...     ...     ...       ...    ...        ...          ...\n",
      "1333   50    male  30.970         3     no  northwest  10600.54830\n",
      "1334   18  female  31.920         0     no  northeast   2205.98080\n",
      "1335   18  female  36.850         0     no  southeast   1629.83350\n",
      "1336   21  female  25.800         0     no  southwest   2007.94500\n",
      "1337   61  female  29.070         0    yes  northwest  29141.36030\n",
      "\n",
      "[1338 rows x 7 columns]>\n"
     ]
    }
   ],
   "source": [
    "import pandas as pd \n",
    "import numpy as np\n",
    "import statistics as st\n",
    "data=pd.read_csv(r\"C:\\Users\\pc\\Downloads\\insurance-data (1).csv\")\n",
    "print(data.info)\n",
    "print(data.shape)\n",
    "print(data.describe)\n",
    "\n",
    "\n"
   ]
  },
  {
   "cell_type": "markdown",
   "id": "d96aab16-c615-49fb-998d-5fd9ffd9b0a3",
   "metadata": {},
   "source": [
    "the precentage of female smokers"
   ]
  },
  {
   "cell_type": "code",
   "execution_count": 6,
   "id": "a9b93d88-7a25-413b-bf8e-158326412542",
   "metadata": {},
   "outputs": [
    {
     "name": "stdout",
     "output_type": "stream",
     "text": [
      "#1.2\n",
      "8.594917787742899\n",
      "_____\n"
     ]
    }
   ],
   "source": [
    "female_smokers=(data.loc[data.loc[:,'sex']=='female']).merge( (data.loc[data.loc[:,'smoker']=='yes']),how='inner')\n",
    "female_smokers_percentage=(female_smokers.shape[0]/(data.shape[0]) )*100\n",
    "print('#1.2')\n",
    "print(female_smokers_percentage)\n",
    "print('_____')\n"
   ]
  },
  {
   "cell_type": "markdown",
   "id": "464408b1-501b-449f-bed3-5e6a002388b6",
   "metadata": {},
   "source": [
    "which city has max rate"
   ]
  },
  {
   "cell_type": "code",
   "execution_count": 9,
   "id": "44238ca1-21f1-4015-aae7-7f41849b5b45",
   "metadata": {},
   "outputs": [
    {
     "name": "stdout",
     "output_type": "stream",
     "text": [
      "#1.3\n",
      "543    southeast\n",
      "Name: region, dtype: object\n",
      "_____\n"
     ]
    }
   ],
   "source": [
    "max_city_insurance=data.loc[data['charges']==data['charges'].max() , 'region']\n",
    "print('#1.3')\n",
    "print(max_city_insurance)\n",
    "print('_____')\n"
   ]
  },
  {
   "cell_type": "markdown",
   "id": "84afb723-da37-44d4-8e86-72fa71325337",
   "metadata": {},
   "source": [
    "what is the average percentage of female smoker age?"
   ]
  },
  {
   "cell_type": "code",
   "execution_count": 14,
   "id": "e7527eaa-8cc2-4a6c-9e10-add80ab34757",
   "metadata": {},
   "outputs": [
    {
     "name": "stdout",
     "output_type": "stream",
     "text": [
      "#1.5\n",
      "38.608695652173914\n",
      "_____\n"
     ]
    }
   ],
   "source": [
    "female_smokers=(data.loc[data.loc[:,'sex']=='female']).merge( (data.loc[data.loc[:,'smoker']=='yes']),how='inner')\n",
    "print('#1.5')\n",
    "print(female_smokers['age'].mean())\n",
    "print('_____')\n"
   ]
  },
  {
   "cell_type": "markdown",
   "id": "a30ed016-8a43-4622-8501-e5a879b6c132",
   "metadata": {},
   "source": [
    "what are the maximum number of children associated with male parent assurance?"
   ]
  },
  {
   "cell_type": "code",
   "execution_count": 17,
   "id": "75b87c2b-8933-4472-8616-7f4c52ead98f",
   "metadata": {},
   "outputs": [
    {
     "name": "stdout",
     "output_type": "stream",
     "text": [
      "#1.8\n",
      "5\n",
      "_____\n"
     ]
    }
   ],
   "source": [
    "male_has_children=(data.loc[data.loc[:,'sex']=='male']).merge( (data.loc[data.loc[:,'children']>0]),how='inner')\n",
    "print('#1.8')\n",
    "print(male_has_children['children'].max())\n",
    "print('_____')"
   ]
  },
  {
   "cell_type": "markdown",
   "id": "7487eaab-3021-402b-8de1-9b969f8cec47",
   "metadata": {},
   "source": [
    "Which city has the maximum female insurance total charge"
   ]
  },
  {
   "cell_type": "code",
   "execution_count": 20,
   "id": "b4bd53f6-bbd7-4a4c-a87b-afe53c7abafb",
   "metadata": {},
   "outputs": [
    {
     "name": "stdout",
     "output_type": "stream",
     "text": [
      "#1.10\n",
      "543    southeast\n",
      "Name: region, dtype: object\n"
     ]
    }
   ],
   "source": [
    "\n",
    "female=(data.loc[data.loc[:,'sex']=='female'])\n",
    "max_insurance_female=female[female['charges']==female['charges'].max()]\n",
    "max_insurance_female_city=max_insurance_female['region']\n",
    "print('#1.10')\n",
    "print(max_insurance_female_city)"
   ]
  },
  {
   "cell_type": "code",
   "execution_count": null,
   "id": "c93a94f1-3522-41b4-8892-215da8858608",
   "metadata": {},
   "outputs": [],
   "source": []
  }
 ],
 "metadata": {
  "kernelspec": {
   "display_name": "Python 3 (ipykernel)",
   "language": "python",
   "name": "python3"
  },
  "language_info": {
   "codemirror_mode": {
    "name": "ipython",
    "version": 3
   },
   "file_extension": ".py",
   "mimetype": "text/x-python",
   "name": "python",
   "nbconvert_exporter": "python",
   "pygments_lexer": "ipython3",
   "version": "3.12.4"
  }
 },
 "nbformat": 4,
 "nbformat_minor": 5
}
