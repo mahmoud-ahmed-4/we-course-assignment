{
 "cells": [
  {
   "cell_type": "code",
   "execution_count": 1,
   "id": "b8fd2dbc-0828-4ff5-b23a-25aa8b51fc04",
   "metadata": {},
   "outputs": [],
   "source": [
    "import pandas as pd\n",
    "import numpy as  np\n",
    "import seaborn as sns\n",
    "import matplotlib.pyplot as plt\n",
    "df=pd.read_csv(r\"C:\\Users\\pc\\Desktop\\uberdrives-metadata.json\")\n",
    "df=pd.DataFrame(df)"
   ]
  },
  {
   "cell_type": "code",
   "execution_count": 3,
   "id": "d786bdf4-f04d-42f4-bc2f-ee113ad781bf",
   "metadata": {},
   "outputs": [
    {
     "name": "stdout",
     "output_type": "stream",
     "text": [
      "Mean number of stops per interval (λ): 2.50\n",
      "Probability of exactly 2 stops: 0.2565\n"
     ]
    }
   ],
   "source": [
    "import pandas as pd\n",
    "import math\n",
    "\n",
    "# Sample DataFrame creation (Replace this with your actual DataFrame)\n",
    "# Example DataFrame with 'time_interval' and 'stops' columns\n",
    "data = {\n",
    "    'time_interval': ['interval1', 'interval1', 'interval2', 'interval2', 'interval3'],\n",
    "    'stops': [1, 3, 2, 1, 4]\n",
    "}\n",
    "df = pd.DataFrame(data)\n",
    "\n",
    "# Step 1: Calculate the mean number of stops per time interval\n",
    "mean_stops_per_interval = df.groupby('time_interval')['stops'].mean().mean()\n",
    "\n",
    "# Step 2: Define the number of stops and the mean rate (λ)\n",
    "k = 2\n",
    "lambda_ = mean_stops_per_interval\n",
    "\n",
    "# Step 3: Calculate the Poisson probability\n",
    "poisson_probability = (lambda_**k * math.exp(-lambda_)) / math.factorial(k)\n",
    "\n",
    "# Print the results\n",
    "print(f\"Mean number of stops per interval (λ): {lambda_:.2f}\")\n",
    "print(f\"Probability of exactly {k} stops: {poisson_probability:.4f}\")"
   ]
  },
  {
   "cell_type": "code",
   "execution_count": null,
   "id": "25040793-76b3-47a6-a128-7ea728dc1fac",
   "metadata": {},
   "outputs": [],
   "source": []
  }
 ],
 "metadata": {
  "kernelspec": {
   "display_name": "Python 3 (ipykernel)",
   "language": "python",
   "name": "python3"
  },
  "language_info": {
   "codemirror_mode": {
    "name": "ipython",
    "version": 3
   },
   "file_extension": ".py",
   "mimetype": "text/x-python",
   "name": "python",
   "nbconvert_exporter": "python",
   "pygments_lexer": "ipython3",
   "version": "3.12.4"
  }
 },
 "nbformat": 4,
 "nbformat_minor": 5
}
