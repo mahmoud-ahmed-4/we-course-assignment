{
 "cells": [
  {
   "cell_type": "markdown",
   "id": "b5994cb3-989e-4394-85d3-5080bc45f0ab",
   "metadata": {},
   "source": [
    "#task1\n"
   ]
  },
  {
   "cell_type": "code",
   "execution_count": 84,
   "id": "da8729b7-f083-4745-9356-86e04fbaba85",
   "metadata": {},
   "outputs": [
    {
     "name": "stdout",
     "output_type": "stream",
     "text": [
      "original matrix:\n",
      "[[1 2 5]\n",
      " [5 6 3]\n",
      " [7 4 9]]\n",
      "\n",
      "Inverse matrix:\n",
      "[[-0.36206897 -0.01724138  0.20689655]\n",
      " [ 0.20689655  0.22413793 -0.18965517]\n",
      " [ 0.18965517 -0.0862069   0.03448276]]\n"
     ]
    }
   ],
   "source": [
    "import numpy as np\n",
    "matrix=np.array([[1,2,5],[5,6,3],[7,4,9]])\n",
    "def get_inverse(matrix):\n",
    "    try:\n",
    "        inverse = np.linalg.inv(matrix)\n",
    "        return inverse\n",
    "    except np.linalg.linalgError:\n",
    "        print(\"matrix is singular and does not have an inverse.\")\n",
    "        return none\n",
    "inverse_matrix=get_inverse(matrix)\n",
    "print(\"original matrix:\")\n",
    "print(matrix)\n",
    "print(\"\\nInverse matrix:\")\n",
    "print(inverse_matrix)\n",
    " #dominant value function   "
   ]
  },
  {
   "cell_type": "code",
   "execution_count": 80,
   "id": "6d457212-52be-4010-859b-56ef75dc3c35",
   "metadata": {},
   "outputs": [
    {
     "name": "stdout",
     "output_type": "stream",
     "text": [
      "Input matrix\n",
      "[1, 2, 3]\n",
      "[4, 5, 6]\n",
      "[7, 8, 9]\n",
      "\n",
      "Identity matrix:\n",
      "[1, 0, 0]\n",
      "[0, 1, 0]\n",
      "[0, 0, 1]\n"
     ]
    }
   ],
   "source": [
    "#identify matrix function\n",
    "\n",
    "def identity_matrix(matrix):\n",
    "    n= len(matrix)\n",
    "    id_matrix=[[1 if i==j else 0 for j in range(n)]for i in range(n)]\n",
    "    return id_matrix\n",
    "matrix=[[1,2,3],[4,5,6],[7,8,9]]\n",
    "id_matrix= identity_matrix(matrix)\n",
    "print(\"Input matrix\")\n",
    "for row in matrix:\n",
    "    print(row)\n",
    "print(\"\\nIdentity matrix:\")\n",
    "for row in id_matrix:\n",
    "    print(row)\n"
   ]
  },
  {
   "cell_type": "code",
   "execution_count": null,
   "id": "28d5cf0e-28b6-42ef-9361-b8128d030d9e",
   "metadata": {},
   "outputs": [],
   "source": [
    "#"
   ]
  }
 ],
 "metadata": {
  "kernelspec": {
   "display_name": "Python 3 (ipykernel)",
   "language": "python",
   "name": "python3"
  },
  "language_info": {
   "codemirror_mode": {
    "name": "ipython",
    "version": 3
   },
   "file_extension": ".py",
   "mimetype": "text/x-python",
   "name": "python",
   "nbconvert_exporter": "python",
   "pygments_lexer": "ipython3",
   "version": "3.12.4"
  }
 },
 "nbformat": 4,
 "nbformat_minor": 5
}
