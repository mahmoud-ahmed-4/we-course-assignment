{
 "cells": [
  {
   "cell_type": "markdown",
   "id": "759d04ba",
   "metadata": {},
   "source": [
    "1-Write a Python program to calculate the length of a string using 2 ways"
   ]
  },
  {
   "cell_type": "code",
   "execution_count": 1,
   "id": "7a2dfa32",
   "metadata": {},
   "outputs": [
    {
     "name": "stdout",
     "output_type": "stream",
     "text": [
      "Length using len(): 13\n",
      "Length using loop: 13\n"
     ]
    }
   ],
   "source": [
    "\n",
    "def length_with_len(string):\n",
    "    return len(string)\n",
    "def length_with_loop(string):\n",
    "    count = 0\n",
    "    for char in string:\n",
    "        count += 1\n",
    "    return count\n",
    "input_string = \"Hello, World!\"\n",
    "print(\"Length using len():\", length_with_len(input_string))\n",
    "print(\"Length using loop:\", length_with_loop(input_string))\n"
   ]
  },
  {
   "cell_type": "markdown",
   "id": "d7cc9da7",
   "metadata": {},
   "source": [
    "2-Write a Python program to get a string made of the first 2 and last 2 characters of a given string. If the string length is less than 2, return the empty string instead (\"##Sample String : 'w3resource' <br>\n",
    "Expected Result : 'w3ce' <br>\n",
    "##Sample String : 'w3'<br>\n",
    "Expected Result : 'w3w3'<br>\n",
    "##Sample String : ' w'<br>\n",
    "Expected Result : Empty String) "
   ]
  },
  {
   "cell_type": "code",
   "execution_count": null,
   "id": "dafa9dd8",
   "metadata": {},
   "outputs": [],
   "source": []
  },
  {
   "cell_type": "markdown",
   "id": "1534f956",
   "metadata": {},
   "source": [
    "3-Write a Python program to add 'ing' at the end of a given string (length should be at least 3). If the given string already ends with 'ing', add 'ly' instead. If the string length of the given string is less than 3, leave it unchanged. (Sample String : 'abc'\n",
    "Expected Result : 'abcing')"
   ]
  },
  {
   "cell_type": "code",
   "execution_count": 3,
   "id": "7ff8cec4",
   "metadata": {},
   "outputs": [
    {
     "name": "stdout",
     "output_type": "stream",
     "text": [
      "Original: abc -> Modified: abcing\n",
      "Original: string -> Modified: stringly\n",
      "Original: do -> Modified: do\n"
     ]
    }
   ],
   "source": [
    "def add_suffix(string):\n",
    "    if len(string) < 3:\n",
    "        return string\n",
    "    elif string.endswith('ing'):\n",
    "        return string + 'ly'\n",
    "    else:\n",
    "        return string + 'ing'\n",
    "sample_string1 = \"abc\"\n",
    "sample_string2 = \"string\"\n",
    "sample_string3 = \"do\"\n",
    "\n",
    "print(\"Original:\", sample_string1, \"-> Modified:\", add_suffix(sample_string1))  \n",
    "print(\"Original:\", sample_string2, \"-> Modified:\", add_suffix(sample_string2)) \n",
    "print(\"Original:\", sample_string3, \"-> Modified:\", add_suffix(sample_string3))  \n"
   ]
  },
  {
   "cell_type": "markdown",
   "id": "1c0a6627",
   "metadata": {},
   "source": [
    "4-Write a Python function that takes a list of words and return the longest word and the length of the longest one\n",
    "(Longest word: Exercises\n",
    "Length of the longest word: 9)"
   ]
  },
  {
   "cell_type": "code",
   "execution_count": 5,
   "id": "397341d9",
   "metadata": {},
   "outputs": [
    {
     "name": "stdout",
     "output_type": "stream",
     "text": [
      "Longest word: Challenges\n",
      "Length of the longest word: 10\n"
     ]
    }
   ],
   "source": [
    "def find_longest_word(words):\n",
    "    longest_word = max(words, key=len)\n",
    "    return longest_word, len(longest_word)\n",
    "words_list = [\"Python\", \"Exercises\", \"Challenges\", \"Practice\"]\n",
    "longest_word, length_of_longest = find_longest_word(words_list)\n",
    "\n",
    "print(\"Longest word:\", longest_word)\n",
    "print(\"Length of the longest word:\", length_of_longest)\n"
   ]
  },
  {
   "cell_type": "markdown",
   "id": "53a03a6a",
   "metadata": {},
   "source": [
    "5-Write a Python program to change a given string to a newly string where the first and last chars have been exchanged using 2 ways (Sample String:abca  Expected Result:ebce)"
   ]
  },
  {
   "cell_type": "code",
   "execution_count": 7,
   "id": "285788b4",
   "metadata": {},
   "outputs": [
    {
     "name": "stdout",
     "output_type": "stream",
     "text": [
      "Modified string (slicing): ebce\n",
      "Modified string (list): ebce\n"
     ]
    }
   ],
   "source": [
    "\n",
    "def exchange_first_last_slicing(string):\n",
    "    if len(string) < 2:\n",
    "        return string\n",
    "    return string[-1] + string[1:-1] + string[0]\n",
    "def exchange_first_last_list(string):\n",
    "    if len(string) < 2:\n",
    "        return string\n",
    "    char_list = list(string)\n",
    "    char_list[0], char_list[-1] = char_list[-1], char_list[0]\n",
    "    return ''.join(char_list)\n",
    "sample_string = \"ebce\"\n",
    "print(\"Modified string (slicing):\", exchange_first_last_slicing(sample_string))\n",
    "print(\"Modified string (list):\", exchange_first_last_list(sample_string))\n"
   ]
  },
  {
   "cell_type": "markdown",
   "id": "25f89808",
   "metadata": {},
   "source": [
    "6-Write a Python program to remove characters that have odd index values in a given string (Sample String:abca Expected Result:ac)"
   ]
  },
  {
   "cell_type": "code",
   "execution_count": 9,
   "id": "05959bd7",
   "metadata": {},
   "outputs": [
    {
     "name": "stdout",
     "output_type": "stream",
     "text": [
      "Original string: abca\n",
      "String after removing odd index characters: ac\n"
     ]
    }
   ],
   "source": [
    "def remove_odd_index_chars(string):\n",
    "    return string[::2]\n",
    "sample_string = \"abca\"\n",
    "result = remove_odd_index_chars(sample_string)\n",
    "\n",
    "print(\"Original string:\", sample_string)\n",
    "print(\"String after removing odd index characters:\", result)  # Expected: 'ac'\n"
   ]
  },
  {
   "cell_type": "markdown",
   "id": "eb16e898",
   "metadata": {},
   "source": [
    "7-Write a Python program to count the occurrences of each word in a given sentence (Sample String:amr and ahmed are frindes but amr is the tallest Expected Result:2)"
   ]
  },
  {
   "cell_type": "code",
   "execution_count": 11,
   "id": "01ce6cf5",
   "metadata": {},
   "outputs": [
    {
     "name": "stdout",
     "output_type": "stream",
     "text": [
      "'amr': 2\n",
      "'and': 1\n",
      "'ahmed': 1\n",
      "'are': 1\n",
      "'friends': 1\n",
      "'but': 1\n",
      "'is': 1\n",
      "'the': 1\n",
      "'tallest': 1\n",
      "Occurrences of 'amr': 2\n"
     ]
    }
   ],
   "source": [
    "from collections import Counter\n",
    "\n",
    "def count_word_occurrences(sentence):\n",
    "    words = sentence.lower().split()\n",
    "    word_counts = Counter(words)    \n",
    "    return word_counts\n",
    "sample_sentence = \"amr and ahmed are friends but amr is the tallest\"\n",
    "word_counts = count_word_occurrences(sample_sentence)\n",
    "for word, count in word_counts.items():\n",
    "    print(f\"'{word}': {count}\")\n",
    "specific_word = \"amr\"\n",
    "print(f\"Occurrences of '{specific_word}': {word_counts.get(specific_word, 0)}\")  # Expected: 2\n"
   ]
  },
  {
   "cell_type": "markdown",
   "id": "4e8125f1",
   "metadata": {},
   "source": [
    "8-Write a Python script that takes input from the user and displays that input back in upper and lower cases"
   ]
  },
  {
   "cell_type": "code",
   "execution_count": 21,
   "id": "66c8f778",
   "metadata": {},
   "outputs": [
    {
     "name": "stdin",
     "output_type": "stream",
     "text": [
      "Enter a string:  6\n"
     ]
    },
    {
     "name": "stdout",
     "output_type": "stream",
     "text": [
      "Upper case: 6\n",
      "Lower case: 6\n"
     ]
    }
   ],
   "source": [
    "\n",
    "user_input = input(\"Enter a string: \")\n",
    "upper_case_input = user_input.upper()\n",
    "lower_case_input = user_input.lower()\n",
    "print(\"Upper case:\", upper_case_input)\n",
    "print(\"Lower case:\", lower_case_input)\n"
   ]
  },
  {
   "cell_type": "markdown",
   "id": "fcd68aa1",
   "metadata": {},
   "source": [
    "9-Write a Python function to reverse a string if its length is a multiple of 4"
   ]
  },
  {
   "cell_type": "code",
   "execution_count": 23,
   "id": "0671a931",
   "metadata": {},
   "outputs": [
    {
     "name": "stdout",
     "output_type": "stream",
     "text": [
      "Reversed (if multiple of 4): hgfedcba\n",
      "Reversed (if multiple of 4): abcde\n"
     ]
    }
   ],
   "source": [
    "def reverse_if_multiple_of_4(string):\n",
    "   \n",
    "    if len(string) % 4 == 0:\n",
    "        return string[::-1]  \n",
    "    else:\n",
    "        return string  \n",
    "\n",
    "# Example usage\n",
    "sample_string1 = \"abcdefgh\"  \n",
    "sample_string2 = \"abcde\"    \n",
    "\n",
    "print(\"Reversed (if multiple of 4):\", reverse_if_multiple_of_4(sample_string1))  \n",
    "print(\"Reversed (if multiple of 4):\", reverse_if_multiple_of_4(sample_string2)) \n"
   ]
  },
  {
   "cell_type": "markdown",
   "id": "b577c68d",
   "metadata": {},
   "source": [
    "10- Write a Python program to remove a newline in Python"
   ]
  },
  {
   "cell_type": "code",
   "execution_count": 17,
   "id": "e0c6525a",
   "metadata": {},
   "outputs": [
    {
     "name": "stdout",
     "output_type": "stream",
     "text": [
      "Text after strip(): 'Hello, World!'\n",
      "Text after replace(): 'Hello, World!'\n"
     ]
    }
   ],
   "source": [
    "def remove_newline_strip(text)\n",
    "                         \n",
    "    return text.strip()\n",
    "\n",
    "def remove_newline_replace(text):\n",
    "   \n",
    "    return text.replace('\\n', '')\n",
    "\n",
    "\n",
    "sample_text = \"Hello, World!\\n\"\n",
    "\n",
    "\n",
    "cleaned_text_strip = remove_newline_strip(sample_text)\n",
    "print(\"Text after strip():\", repr(cleaned_text_strip))\n",
    "\n",
    "cleaned_text_replace = remove_newline_replace(sample_text)\n",
    "print(\"Text after replace():\", repr(cleaned_text_replace))  \n"
   ]
  },
  {
   "cell_type": "markdown",
   "id": "80db5ae0",
   "metadata": {},
   "source": [
    "11-Write a Python program to check whether a string starts with specified characters"
   ]
  },
  {
   "cell_type": "code",
   "execution_count": 19,
   "id": "0cc4e03e",
   "metadata": {},
   "outputs": [
    {
     "name": "stdout",
     "output_type": "stream",
     "text": [
      "Does the string 'Hello, World!' start with 'Hello'? True\n"
     ]
    }
   ],
   "source": [
    "def check_starts_with(string, prefix):\n",
    "   \n",
    "    return string.startswith(prefix)\n",
    "\n",
    "\n",
    "sample_string = \"Hello, World!\"\n",
    "prefix_to_check = \"Hello\"\n",
    "\n",
    "\n",
    "result = check_starts_with(sample_string, prefix_to_check)\n",
    "\n",
    "print(f\"Does the string '{sample_string}' start with '{prefix_to_check}'? {result}\")  # Expected: True\n"
   ]
  },
  {
   "cell_type": "markdown",
   "id": "593a68db",
   "metadata": {},
   "source": [
    "12- Write a Python program to add prefix text to all of the lines in a string"
   ]
  },
  {
   "cell_type": "code",
   "execution_count": null,
   "id": "d2e46ada",
   "metadata": {},
   "outputs": [],
   "source": []
  },
  {
   "cell_type": "markdown",
   "id": "86fa1543",
   "metadata": {},
   "source": [
    "13-Write a Python program to print the following numbers up to 2 decimal places"
   ]
  },
  {
   "cell_type": "code",
   "execution_count": null,
   "id": "cd4a9d89",
   "metadata": {},
   "outputs": [],
   "source": []
  },
  {
   "cell_type": "markdown",
   "id": "452c0ab0",
   "metadata": {},
   "source": [
    "14-Write a Python program to print the following numbers up to 2 decimal places with a sign"
   ]
  },
  {
   "cell_type": "code",
   "execution_count": null,
   "id": "73e82479",
   "metadata": {},
   "outputs": [],
   "source": []
  },
  {
   "cell_type": "markdown",
   "id": "32b1811a",
   "metadata": {},
   "source": [
    "15-Write a Python program to display a number with a comma separator"
   ]
  },
  {
   "cell_type": "code",
   "execution_count": null,
   "id": "f30fc0b6",
   "metadata": {},
   "outputs": [],
   "source": []
  },
  {
   "cell_type": "markdown",
   "id": "0477f487",
   "metadata": {},
   "source": [
    "16-Write a Python program to reverse a string using 2 ways"
   ]
  },
  {
   "cell_type": "code",
   "execution_count": null,
   "id": "aa8beec8",
   "metadata": {},
   "outputs": [],
   "source": []
  },
  {
   "cell_type": "markdown",
   "id": "5afc3166",
   "metadata": {},
   "source": [
    " 17-Write a Python program to count repeated characters in a string (hint:use dictionary)"
   ]
  },
  {
   "cell_type": "code",
   "execution_count": null,
   "id": "515a469c",
   "metadata": {},
   "outputs": [],
   "source": []
  },
  {
   "cell_type": "markdown",
   "id": "ae14e4e5",
   "metadata": {},
   "source": [
    "18-Write a Python program to find the first non-repeating character in a given string"
   ]
  },
  {
   "cell_type": "code",
   "execution_count": null,
   "id": "d73778e5",
   "metadata": {},
   "outputs": [],
   "source": []
  },
  {
   "cell_type": "markdown",
   "id": "3adf5669",
   "metadata": {},
   "source": [
    "19-Write a Python program to remove spaces from a given string"
   ]
  },
  {
   "cell_type": "code",
   "execution_count": null,
   "id": "b4f22602",
   "metadata": {},
   "outputs": [],
   "source": []
  },
  {
   "cell_type": "markdown",
   "id": "734de60c",
   "metadata": {},
   "source": [
    "20-Write a Python program to count the number of non-empty substrings of a given string"
   ]
  },
  {
   "cell_type": "code",
   "execution_count": null,
   "id": "ef3f2274",
   "metadata": {},
   "outputs": [],
   "source": []
  },
  {
   "cell_type": "markdown",
   "id": "509998e2",
   "metadata": {},
   "source": [
    "21-write a Python program to swap first and last element of any list."
   ]
  },
  {
   "cell_type": "code",
   "execution_count": null,
   "id": "68692d7f",
   "metadata": {},
   "outputs": [],
   "source": []
  },
  {
   "cell_type": "markdown",
   "id": "959e0837",
   "metadata": {},
   "source": [
    "22-Given a list in Python and provided the positions of the elements,\n",
    "<br>write a program to swap the two elements in the list.<br>\n",
    "(Input : List = [23, 65, 19, 90], pos1 = 1, pos2 = 3 <br>\n",
    "Output : [19, 65, 23, 90])"
   ]
  },
  {
   "cell_type": "code",
   "execution_count": null,
   "id": "225d8c6d",
   "metadata": {},
   "outputs": [],
   "source": []
  },
  {
   "cell_type": "markdown",
   "id": "66fc6682",
   "metadata": {},
   "source": [
    "23- search for the all ways to know the length of the list"
   ]
  },
  {
   "cell_type": "code",
   "execution_count": null,
   "id": "0ce2ab11-e694-4ef4-886e-781f5c6857d1",
   "metadata": {},
   "outputs": [],
   "source": []
  },
  {
   "cell_type": "markdown",
   "id": "635e76c5-7b68-4e02-972d-7d9eae99b598",
   "metadata": {},
   "source": [
    "24-write a Python code to find the Maximum number of list of numbers."
   ]
  },
  {
   "cell_type": "code",
   "execution_count": null,
   "id": "15f342de",
   "metadata": {},
   "outputs": [],
   "source": []
  },
  {
   "cell_type": "markdown",
   "id": "af36b71c-3de0-42e0-b49a-fc06cfc62068",
   "metadata": {},
   "source": [
    "25-write a Python code to find the Minimum number of list of numbers."
   ]
  },
  {
   "cell_type": "code",
   "execution_count": null,
   "id": "21f8cbd6",
   "metadata": {},
   "outputs": [],
   "source": []
  },
  {
   "cell_type": "markdown",
   "id": "96822d96",
   "metadata": {},
   "source": [
    "**26-search for if an elem is existing in list"
   ]
  },
  {
   "cell_type": "code",
   "execution_count": null,
   "id": "51ca5c9a",
   "metadata": {},
   "outputs": [],
   "source": []
  },
  {
   "cell_type": "markdown",
   "id": "d9557da7",
   "metadata": {},
   "source": [
    "**27- clear python list using different ways"
   ]
  },
  {
   "cell_type": "code",
   "execution_count": null,
   "id": "b69858a3",
   "metadata": {},
   "outputs": [],
   "source": []
  },
  {
   "cell_type": "markdown",
   "id": "52160e88",
   "metadata": {},
   "source": [
    "**28-remove duplicated elements from a list"
   ]
  },
  {
   "cell_type": "code",
   "execution_count": null,
   "id": "5e362228",
   "metadata": {},
   "outputs": [],
   "source": []
  },
  {
   "cell_type": "markdown",
   "id": "282337f7",
   "metadata": {},
   "source": [
    "**29-Given list values and keys list, convert these values to key value pairs in form of list of dictionaries.<br>\n",
    "(Input : test_list = [“Gfg”, 3, “is”, 8], key_list = [“name”, “id”]<br>\n",
    "Output : [{‘name’: ‘Gfg’, ‘id’: 3}, {‘name’: ‘is’, ‘id’: 8}])"
   ]
  },
  {
   "cell_type": "code",
   "execution_count": null,
   "id": "4d4e2d28",
   "metadata": {},
   "outputs": [],
   "source": []
  },
  {
   "cell_type": "markdown",
   "id": "c26b6e9f",
   "metadata": {},
   "source": [
    "**30-write a python program to count unique values inside a list using different ways"
   ]
  },
  {
   "cell_type": "code",
   "execution_count": 1,
   "id": "72132667",
   "metadata": {},
   "outputs": [
    {
     "name": "stdout",
     "output_type": "stream",
     "text": [
      "Number of unique values (using set): 6\n",
      "Number of unique values (using dictionary): 6\n",
      "Number of unique values (using loop and temporary list): 6\n",
      "Number of unique values (using Counter): 6\n",
      "Number of unique values (using numpy): 6\n"
     ]
    }
   ],
   "source": [
    "\n",
    "sample_list = [1, 2, 2, 3, 4, 4, 5, 5, 5, 6]\n",
    "unique_values_set = len(set(sample_list))\n",
    "print(\"Number of unique values (using set):\", unique_values_set)\n",
    "unique_values_dict = len({i: sample_list.count(i) for i in sample_list})\n",
    "print(\"Number of unique values (using dictionary):\", unique_values_dict)\n",
    "unique_values_temp_list = []\n",
    "for i in sample_list:\n",
    "    if i not in unique_values_temp_list:\n",
    "        unique_values_temp_list.append(i)\n",
    "print(\"Number of unique values (using loop and temporary list):\", len(unique_values_temp_list))\n",
    "from collections import Counter\n",
    "unique_values_counter = len(Counter(sample_list))\n",
    "print(\"Number of unique values (using Counter):\", unique_values_counter)\n",
    "import numpy as np\n",
    "unique_values_numpy = len(np.unique(sample_list))\n",
    "print(\"Number of unique values (using numpy):\", unique_values_numpy)"
   ]
  },
  {
   "cell_type": "markdown",
   "id": "fed6677c",
   "metadata": {},
   "source": [
    "**31-write a python program Extract all elements with Frequency greater than K (Input : test_list = [4, 6, 4, 3, 3, 4, 3, 4, 3, 8], K = 3 \n",
    "Output : [4, 3] )"
   ]
  },
  {
   "cell_type": "code",
   "execution_count": 3,
   "id": "d81f3f9d",
   "metadata": {},
   "outputs": [
    {
     "name": "stdout",
     "output_type": "stream",
     "text": [
      "Elements with frequency greater than 3 : [4, 3]\n"
     ]
    }
   ],
   "source": [
    "from collections import Counter\n",
    "test_list = [4, 6, 4, 3, 3, 4, 3, 4, 3, 8]\n",
    "K = 3\n",
    "frequency = Counter(test_list)\n",
    "result = [key for key, value in frequency.items() if value > K]\n",
    "print(\"Elements with frequency greater than\", K, \":\", result)"
   ]
  },
  {
   "cell_type": "code",
   "execution_count": 14,
   "id": "dde8a0e3-4c7f-41e0-8523-f0da40204db5",
   "metadata": {},
   "outputs": [
    {
     "name": "stdout",
     "output_type": "stream",
     "text": [
      "Strongest Neighbours: [2, 2, 3, 4, 5]\n"
     ]
    }
   ],
   "source": [
    "#**32-write a python program to find the Strongest Neighbour (Input: 1 2 2 3 4 5\n",
    "#Output: 2 2 3 4 5 4)'\n",
    "def strongest_neighbour(arr):\n",
    "    result = []   \n",
    "    for i in range(len(arr) - 1):\n",
    "       result.append(max(arr[i], arr[i + 1]))    \n",
    "    return result  \n",
    "arr = [1, 2, 2, 3, 4, 5]\n",
    "output = strongest_neighbour(arr)\n",
    "print(\"Strongest Neighbours:\", output)"
   ]
  },
  {
   "cell_type": "markdown",
   "id": "a9fa8baf",
   "metadata": {},
   "source": [
    "**33-write a Python Program to print all Possible Combinations from the three Digits (Input: [1, 2, 3]\n",
    "Output:\n",
    "1 2 3 ##\n",
    "1 3 2 ##\n",
    "2 1 3 ##\n",
    "2 3 1 ##\n",
    "3 1 2 ##\n",
    "3 2 1)"
   ]
  },
  {
   "cell_type": "code",
   "execution_count": 9,
   "id": "8c520a76",
   "metadata": {},
   "outputs": [
    {
     "name": "stdout",
     "output_type": "stream",
     "text": [
      "1 2 3 ## 1 3 2 ## 2 1 3 ## 2 3 1 ## 3 1 2 ## 3 2 1 ## "
     ]
    }
   ],
   "source": [
    "from itertools import permutations\n",
    "digits = [1, 2, 3]\n",
    "combinations = permutations(digits)\n",
    "for combination in combinations:\n",
    "    print(\" \".join(map(str, combination)), end=\" ## \")"
   ]
  },
  {
   "cell_type": "markdown",
   "id": "5288bb89",
   "metadata": {},
   "source": [
    "**34-write a Python program to find all the Combinations in the list with the given condition (Input: test_list = [1,2,3] \n",
    "Output: \n",
    " [1], [1, 2], [1, 2, 3], [1, 3]\n",
    " [2], [2, 3], [3])"
   ]
  },
  {
   "cell_type": "code",
   "execution_count": 16,
   "id": "59b89646",
   "metadata": {},
   "outputs": [
    {
     "name": "stdout",
     "output_type": "stream",
     "text": [
      "[1]\n",
      "[2]\n",
      "[3]\n",
      "[1, 2]\n",
      "[1, 3]\n",
      "[2, 3]\n",
      "[1, 2, 3]\n"
     ]
    }
   ],
   "source": [
    "from itertools import combinations\n",
    "test_list = [1, 2, 3]\n",
    "result = []\n",
    "for r in range(1, len(test_list) + 1):\n",
    "    comb = combinations(test_list, r)\n",
    "    result.extend(list(comb))\n",
    "for comb in result:\n",
    "    print(list(comb))"
   ]
  },
  {
   "cell_type": "markdown",
   "id": "39973705",
   "metadata": {},
   "source": [
    "**35-write a Python program to get all unique combinations of two Lists (List_1 = [\"a\",\"b\"]\n",
    "List_2 = [1,2]\n",
    "Unique_combination = [[('a',1),('b',2)],[('a',2),('b',1)]] )"
   ]
  },
  {
   "cell_type": "code",
   "execution_count": 1,
   "id": "8c4ba22b",
   "metadata": {},
   "outputs": [
    {
     "name": "stdout",
     "output_type": "stream",
     "text": [
      "[[('a', 1), ('b', 2)], [('a', 2), ('b', 1)]]\n"
     ]
    }
   ],
   "source": [
    "import itertools\n",
    "List_1 = [\"a\", \"b\"]\n",
    "List_2 = [1, 2]\n",
    "permutations = list(itertools.permutations(List_2))\n",
    "Unique_combination = [list(zip(List_1, perm)) for perm in permutations]\n",
    "print(Unique_combination)"
   ]
  },
  {
   "cell_type": "markdown",
   "id": "25199af5",
   "metadata": {},
   "source": [
    "**36-Remove all the occurrences of an element from a list in Python (Input : 1 1 2 3 4 5 1 2 1 \n",
    "\n",
    "**Output : 2 3 4 5 2)"
   ]
  },
  {
   "cell_type": "code",
   "execution_count": 3,
   "id": "6dc4c2ba",
   "metadata": {},
   "outputs": [
    {
     "name": "stdout",
     "output_type": "stream",
     "text": [
      "[2, 3, 4, 5, 2]\n"
     ]
    }
   ],
   "source": [
    "\n",
    "input_list = [1, 1, 2, 3, 4, 5, 1, 2, 1]\n",
    "element_to_remove = 1\n",
    "output_list = [x for x in input_list if x != element_to_remove]\n",
    "print(output_list)"
   ]
  },
  {
   "cell_type": "markdown",
   "id": "bf1a3c93",
   "metadata": {},
   "source": [
    "**37-write a python program to Replace index elements with elements in Other List <br>\n",
    "(The original list 1 is : [‘Gfg’, ‘is’, ‘best’]<br> \n",
    "The original list 2 is : [0, 1, 2, 1, 0, 0, 0, 2, 1, 1, 2, 0] <br>\n",
    "The lists after index elements replacements is : [‘Gfg’, ‘is’, ‘best’, ‘is’, ‘Gfg’, ‘Gfg’, ‘Gfg’, ‘best’, ‘is’, ‘is’, ‘best’, ‘Gfg’])"
   ]
  },
  {
   "cell_type": "code",
   "execution_count": null,
   "id": "e3ab6802-d0c3-41ea-aa81-ce4023808f0c",
   "metadata": {},
   "outputs": [],
   "source": [
    "/////"
   ]
  },
  {
   "cell_type": "code",
   "execution_count": null,
   "id": "fdd66a71",
   "metadata": {},
   "outputs": [],
   "source": [
    "/////"
   ]
  },
  {
   "cell_type": "markdown",
   "id": "af0f56e8",
   "metadata": {},
   "source": [
    "**38- write python program to Retain records with N occurrences of K(Input : test_list = [(4, 5, 5, 4), (5, 4, 3)], K = 5, N = 2 <br>\n",
    "Output : [(4, 5, 5, 4)] <br>\n",
    "Input : test_list = [(4, 5, 5, 4), (5, 4, 3)], K = 5, N = 3 <br>\n",
    "Output : [] )"
   ]
  },
  {
   "cell_type": "code",
   "execution_count": null,
   "id": "5b378aef-36e8-4a02-b14b-1197ffbd7df0",
   "metadata": {},
   "outputs": [],
   "source": [
    "/////"
   ]
  },
  {
   "cell_type": "code",
   "execution_count": null,
   "id": "67b06671",
   "metadata": {},
   "outputs": [],
   "source": []
  },
  {
   "cell_type": "markdown",
   "id": "de76f183",
   "metadata": {},
   "source": [
    "**39-write a Python Program to Sort the list according to the column using lambda<br>\n",
    "array = [[1, 3, 3], [2, 1, 2], [3, 2, 1]]<br>\n",
    "Output :<br>\n",
    "Sorted array specific to column 0, [[1, 3, 3], [2, 1, 2], [3, 2, 1]]<br>\n",
    "Sorted array specific to column 1, [[2, 1, 2], [3, 2, 1], [1, 3, 3]]<br>\n",
    "Sorted array specific to column 2, [[3, 2, 1], [2, 1, 2], [1, 3, 3]]"
   ]
  },
  {
   "cell_type": "code",
   "execution_count": 5,
   "id": "86e2ec37-1c78-47cb-b57f-3a9ddc7c553e",
   "metadata": {},
   "outputs": [
    {
     "name": "stdout",
     "output_type": "stream",
     "text": [
      "Sorted array specific to column 0: [[1, 3, 3], [2, 1, 2], [3, 2, 1]]\n",
      "Sorted array specific to column 1: [[2, 1, 2], [3, 2, 1], [1, 3, 3]]\n",
      "Sorted array specific to column 2: [[3, 2, 1], [2, 1, 2], [1, 3, 3]]\n"
     ]
    }
   ],
   "source": [
    "array = [[1, 3, 3], [2, 1, 2], [3, 2, 1]]\n",
    "sorted_by_col_0 = sorted(array, key=lambda x: x[0])\n",
    "print(f\"Sorted array specific to column 0: {sorted_by_col_0}\")\n",
    "sorted_by_col_1 = sorted(array, key=lambda x: x[1])\n",
    "print(f\"Sorted array specific to column 1: {sorted_by_col_1}\")\n",
    "sorted_by_col_2 = sorted(array, key=lambda x: x[2])\n",
    "print(f\"Sorted array specific to column 2: {sorted_by_col_2}\")"
   ]
  },
  {
   "cell_type": "code",
   "execution_count": null,
   "id": "dc883308",
   "metadata": {},
   "outputs": [],
   "source": []
  },
  {
   "cell_type": "markdown",
   "id": "cc17bbe5-03d1-4204-a6f5-75665af9bc72",
   "metadata": {},
   "source": [
    "**40- write a program to Sort Python Dictionaries by Key or Value <br>\n",
    "Input: <br>\n",
    "{'ravi': 10, 'rajnish': 9, 'sanjeev': 15, 'yash': 2, 'suraj': 32}\n",
    "<br>\n",
    "Output: <br>\n",
    "{'rajnish': 9, 'ravi': 10, 'sanjeev': 15, 'suraj': 32, 'yash': 2}"
   ]
  },
  {
   "cell_type": "code",
   "execution_count": 9,
   "id": "a96db4a0",
   "metadata": {},
   "outputs": [
    {
     "name": "stdout",
     "output_type": "stream",
     "text": [
      "Sorted by keys: {'rajnish': 9, 'ravi': 10, 'sanjeev': 15, 'suraj': 32, 'yash': 2}\n",
      "Sorted by values: {'yash': 2, 'rajnish': 9, 'ravi': 10, 'sanjeev': 15, 'suraj': 32}\n"
     ]
    }
   ],
   "source": [
    "input_dict = {'ravi': 10, 'rajnish': 9, 'sanjeev': 15, 'yash': 2, 'suraj': 32}\n",
    "\n",
    "# Sorting by keys\n",
    "sorted_by_keys = dict(sorted(input_dict.items(), key=lambda item: item[0]))\n",
    "print(f\"Sorted by keys: {sorted_by_keys}\")\n",
    "\n",
    "# Sorting by values\n",
    "sorted_by_values = dict(sorted(input_dict.items(), key=lambda item: item[1]))\n",
    "print(f\"Sorted by values: {sorted_by_values}\")"
   ]
  },
  {
   "cell_type": "markdown",
   "id": "ec63c23a",
   "metadata": {},
   "source": [
    "**41-write python program to Remove keys with Values Greater than K ( Including mixed values ) <br>\n",
    "input : test_dict = {‘Gfg’ : 3, ‘is’ : 7, ‘best’ : 10, ‘for’ : 6, ‘geeks’ : ‘CS’},\n",
    "K = 7 <br>\n",
    "Output : {‘Gfg’ : 3, ‘for’ : 6, ‘geeks’ : ‘CS’}"
   ]
  },
  {
   "cell_type": "code",
   "execution_count": null,
   "id": "e39c3a40",
   "metadata": {},
   "outputs": [],
   "source": [
    "////////"
   ]
  },
  {
   "cell_type": "markdown",
   "id": "f143f0fe",
   "metadata": {},
   "source": [
    "**42-Write a Python program to concatenate the following dictionaries to create a new one\n",
    "\n",
    "Sample Dictionary :\n",
    "dic1={1:10, 2:20}\n",
    "dic2={3:30, 4:40}\n",
    "dic3={5:50,6:60}\n",
    "Expected Result : {1: 10, 2: 20, 3: 30, 4: 40, 5: 50, 6: 60}"
   ]
  },
  {
   "cell_type": "code",
   "execution_count": 11,
   "id": "74ffdfea",
   "metadata": {},
   "outputs": [
    {
     "name": "stdout",
     "output_type": "stream",
     "text": [
      "Concatenated Dictionary using update(): {1: 10, 2: 20, 3: 30, 4: 40, 5: 50, 6: 60}\n",
      "Concatenated Dictionary using unpacking: {1: 10, 2: 20, 3: 30, 4: 40, 5: 50, 6: 60}\n"
     ]
    }
   ],
   "source": [
    "dic1 = {1: 10, 2: 20}\n",
    "dic2 = {3: 30, 4: 40}\n",
    "dic3 = {5: 50, 6: 60}\n",
    "result = {}\n",
    "result.update(dic1)\n",
    "result.update(dic2)\n",
    "result.update(dic3)\n",
    "print(\"Concatenated Dictionary using update():\", result)\n",
    "result_unpacking = {**dic1, **dic2, **dic3}\n",
    "print(\"Concatenated Dictionary using unpacking:\", result_unpacking)"
   ]
  },
  {
   "cell_type": "markdown",
   "id": "fb04c93c",
   "metadata": {},
   "source": [
    "**43-Write a Python program to iterate over dictionaries using for loops"
   ]
  },
  {
   "cell_type": "code",
   "execution_count": 15,
   "id": "6aebc470",
   "metadata": {},
   "outputs": [
    {
     "name": "stdout",
     "output_type": "stream",
     "text": [
      "Iterating over keys:\n",
      "mohamed\n",
      "ali\n",
      "sayied\n",
      "hussien\n",
      "youssef\n",
      "\n",
      "Iterating over values:\n",
      "10\n",
      "9\n",
      "15\n",
      "2\n",
      "32\n",
      "\n",
      "Iterating over key-value pairs:\n",
      "mohamed: 10\n",
      "ali: 9\n",
      "sayied: 15\n",
      "hussien: 2\n",
      "youssef: 32\n"
     ]
    }
   ],
   "source": [
    " sample_dict = {'mohamed': 10, 'ali': 9, 'sayied': 15, 'hussien': 2, 'youssef': 32}\n",
    "print(\"Iterating over keys:\")\n",
    "for key in sample_dict:\n",
    "    print(key)\n",
    "print(\"\\nIterating over values:\")\n",
    "for value in sample_dict.values():\n",
    "    print(value)\n",
    "print(\"\\nIterating over key-value pairs:\")\n",
    "for key, value in sample_dict.items():\n",
    "    print(f\"{key}: {value}\")\n",
    "\n"
   ]
  },
  {
   "cell_type": "markdown",
   "id": "5f491a9d",
   "metadata": {},
   "source": [
    "**44- Write a Python script to merge two Python dictionaries"
   ]
  },
  {
   "cell_type": "code",
   "execution_count": null,
   "id": "b8a14028",
   "metadata": {},
   "outputs": [],
   "source": [
    "////////"
   ]
  },
  {
   "cell_type": "markdown",
   "id": "216fc72d",
   "metadata": {},
   "source": [
    "**45-Write a Python program to get the maximum and minimum values of a dictionary values"
   ]
  },
  {
   "cell_type": "code",
   "execution_count": 17,
   "id": "d6883f5f",
   "metadata": {},
   "outputs": [
    {
     "name": "stdout",
     "output_type": "stream",
     "text": [
      "Maximum value: 32\n",
      "Minimum value: 2\n"
     ]
    }
   ],
   "source": [
    "sample_dict = {'tarek': 10, 'ahmed': 9, 'mazen': 15, 'mahmoud': 2, 'ali': 32}\n",
    "\n",
    "# Get the maximum value\n",
    "max_value = max(sample_dict.values())\n",
    "\n",
    "# Get the minimum value\n",
    "min_value = min(sample_dict.values())\n",
    "\n",
    "print(f\"Maximum value: {max_value}\")\n",
    "print(f\"Minimum value: {min_value}\")"
   ]
  },
  {
   "cell_type": "markdown",
   "id": "b6a53011",
   "metadata": {},
   "source": [
    "**46- Write a Python program to drop empty items from a given dictionary.<br>\n",
    "Original Dictionary:<br>\n",
    "{'c1': 'Red', 'c2': 'Green', 'c3': None}<br>\n",
    "New Dictionary after dropping empty items:<br>\n",
    "{'c1': 'Red', 'c2': 'Green'}"
   ]
  },
  {
   "cell_type": "code",
   "execution_count": null,
   "id": "b5c6fecf",
   "metadata": {},
   "outputs": [],
   "source": [
    "//////////"
   ]
  },
  {
   "cell_type": "markdown",
   "id": "46d718c7",
   "metadata": {},
   "source": [
    "**47-Write a Python program to create a tuple of numbers and print one item"
   ]
  },
  {
   "cell_type": "code",
   "execution_count": 19,
   "id": "13216ff5",
   "metadata": {},
   "outputs": [
    {
     "name": "stdout",
     "output_type": "stream",
     "text": [
      "Tuple: (10, 20, 30, 40, 50)\n",
      "Item at index 2: 30\n"
     ]
    }
   ],
   "source": [
    "numbers_tuple = (10,20,30,40,50)\n",
    "print(\"Tuple:\", numbers_tuple)\n",
    "index = 2\n",
    "print(f\"Item at index {index}:\", numbers_tuple[index])"
   ]
  },
  {
   "cell_type": "markdown",
   "id": "2be5b56b",
   "metadata": {},
   "source": [
    "**48-Write a Python program to unpack a tuple into several variables"
   ]
  },
  {
   "cell_type": "code",
   "execution_count": 21,
   "id": "595f44be",
   "metadata": {},
   "outputs": [
    {
     "name": "stdout",
     "output_type": "stream",
     "text": [
      "Unpacked values:\n",
      "a: 10\n",
      "b: 20\n",
      "c: 30\n",
      "d: 40\n",
      "e: 50\n"
     ]
    }
   ],
   "source": [
    "my_tuple = (10, 20, 30, 40, 50)\n",
    "a, b, c, d, e = my_tuple\n",
    "print(\"Unpacked values:\")\n",
    "print(\"a:\", a)\n",
    "print(\"b:\", b)\n",
    "print(\"c:\", c)\n",
    "print(\"d:\", d)\n",
    "print(\"e:\", e)"
   ]
  },
  {
   "cell_type": "markdown",
   "id": "392388a7",
   "metadata": {},
   "source": [
    "**49-Write a Python program to add an item to a tuple"
   ]
  },
  {
   "cell_type": "code",
   "execution_count": 23,
   "id": "54cc092e",
   "metadata": {},
   "outputs": [
    {
     "name": "stdout",
     "output_type": "stream",
     "text": [
      "Original Tuple: (1, 2, 3, 4)\n",
      "New Tuple with added item: (1, 2, 3, 4, 5)\n"
     ]
    }
   ],
   "source": [
    "original_tuple = (1,2,3,4)\n",
    "item_to_add = 5\n",
    "new_tuple = original_tuple + (item_to_add,)\n",
    "print(\"Original Tuple:\", original_tuple)\n",
    "print(\"New Tuple with added item:\", new_tuple)"
   ]
  },
  {
   "cell_type": "markdown",
   "id": "3e8fd124",
   "metadata": {},
   "source": [
    "**50-Write a Python program to convert a tuple to a string"
   ]
  },
  {
   "cell_type": "code",
   "execution_count": 25,
   "id": "92a71ddc",
   "metadata": {},
   "outputs": [
    {
     "name": "stdout",
     "output_type": "stream",
     "text": [
      "Tuple as string: 1, hassan, 3, ali\n"
     ]
    }
   ],
   "source": [
    "\n",
    "tuple_data = (1, 'hassan', 3, 'ali')\n",
    "tuple_as_string = ', '.join(map(str, tuple_data))\n",
    "print(\"Tuple as string:\", tuple_as_string)"
   ]
  },
  {
   "cell_type": "markdown",
   "id": "f4f64ef4",
   "metadata": {},
   "source": [
    "**51-Write a Python program to convert a list to a tuple"
   ]
  },
  {
   "cell_type": "code",
   "execution_count": 27,
   "id": "210d56d3",
   "metadata": {},
   "outputs": [
    {
     "name": "stdout",
     "output_type": "stream",
     "text": [
      "Original List: [1, 2, 3, 4, 5]\n",
      "Converted Tuple: (1, 2, 3, 4, 5)\n"
     ]
    }
   ],
   "source": [
    "list_data = [1,2,3,4,5]\n",
    "tuple_data = tuple(list_data)\n",
    "print(\"Original List:\", list_data)\n",
    "print(\"Converted Tuple:\", tuple_data)"
   ]
  },
  {
   "cell_type": "markdown",
   "id": "b1e00ef7",
   "metadata": {},
   "source": [
    "**52-Write a Python program to reverse a tuple"
   ]
  },
  {
   "cell_type": "code",
   "execution_count": 29,
   "id": "f45bfdc7",
   "metadata": {},
   "outputs": [
    {
     "name": "stdout",
     "output_type": "stream",
     "text": [
      "Original Tuple: (1, 2, 3, 4, 5)\n",
      "Reversed Tuple: (5, 4, 3, 2, 1)\n"
     ]
    }
   ],
   "source": [
    "original_tuple = (1,2,3,4,5)\n",
    "reversed_tuple = original_tuple[::-1]\n",
    "print(\"Original Tuple:\", original_tuple)\n",
    "print(\"Reversed Tuple:\", reversed_tuple)"
   ]
  },
  {
   "cell_type": "markdown",
   "id": "3cd347d1",
   "metadata": {},
   "source": [
    "**53-Write a Python program to replace the last value of tuples in a list.<br>\n",
    "Sample list: [(10, 20, 40), (40, 50, 60), (70, 80, 90)] <br>\n",
    "Expected Output: [(10, 20, 100), (40, 50, 100), (70, 80, 100)]"
   ]
  },
  {
   "cell_type": "code",
   "execution_count": 31,
   "id": "3c4a2a4c",
   "metadata": {},
   "outputs": [
    {
     "name": "stdout",
     "output_type": "stream",
     "text": [
      "Updated List: [(10, 20, 100), (40, 50, 100), (70, 80, 100)]\n"
     ]
    }
   ],
   "source": [
    "sample_list = [(10,20,40), (40,50,60), (70,80,90)]\n",
    "new_value = 100\n",
    "updated_list = [tup[:-1] + (new_value,) for tup in sample_list]\n",
    "print(\"Updated List:\", updated_list)"
   ]
  },
  {
   "cell_type": "markdown",
   "id": "76bb7b39",
   "metadata": {},
   "source": [
    "**54-Write a Python program to convert a given string list to a tuple\n",
    "Original string: python 3.0 <br>\n",
    "<class 'str'> <br>\n",
    "Convert the said string to a tuple: <br>\n",
    "('p', 'y', 't', 'h', 'o', 'n', '3', '.', '0')"
   ]
  },
  {
   "cell_type": "code",
   "execution_count": null,
   "id": "51951937",
   "metadata": {},
   "outputs": [],
   "source": [
    "//////"
   ]
  },
  {
   "cell_type": "markdown",
   "id": "5a1d5d97",
   "metadata": {},
   "source": [
    "**55-Write a Python program to calculate the average value of the numbers in a given tuple of tuples"
   ]
  },
  {
   "cell_type": "code",
   "execution_count": 35,
   "id": "834e7992",
   "metadata": {},
   "outputs": [
    {
     "name": "stdout",
     "output_type": "stream",
     "text": [
      "Tuple of Tuples: ((1, 2, 3), (4, 5, 6), (7, 8, 9))\n",
      "Average Value: 5.0\n"
     ]
    }
   ],
   "source": [
    "tuple_of_tuples = ((1,2,3), (4,5,6), (7,8,9))\n",
    "all_values = [item for subtuple in tuple_of_tuples for item in subtuple]\n",
    "total_sum = sum(all_values)\n",
    "count = len(all_values)\n",
    "average = total_sum / count if count > 0 else 0\n",
    "print(\"Tuple of Tuples:\", tuple_of_tuples)\n",
    "print(\"Average Value:\", average)"
   ]
  },
  {
   "cell_type": "markdown",
   "id": "51edab9c",
   "metadata": {},
   "source": [
    "**56-Write a Python program to add member(s) to a set."
   ]
  },
  {
   "cell_type": "code",
   "execution_count": 37,
   "id": "2b65df79",
   "metadata": {},
   "outputs": [
    {
     "name": "stdout",
     "output_type": "stream",
     "text": [
      "Updated Set: {1, 2, 3, 4, 5, 6, 7}\n"
     ]
    }
   ],
   "source": [
    "my_set = {1, 2, 3}\n",
    "my_set.add(4)\n",
    "my_set.update([5, 6, 7])\n",
    "print(\"Updated Set:\", my_set)"
   ]
  },
  {
   "cell_type": "markdown",
   "id": "965590cc",
   "metadata": {},
   "source": [
    "**57-Write a Python program to remove an item from a set if it is present in the set."
   ]
  },
  {
   "cell_type": "code",
   "execution_count": 41,
   "id": "866bab28",
   "metadata": {},
   "outputs": [
    {
     "name": "stdout",
     "output_type": "stream",
     "text": [
      "Item 5 removed using remove().\n",
      "Item 4 removed using discard().\n",
      "Updated Set: {1, 2, 6}\n"
     ]
    }
   ],
   "source": [
    "my_set = {1,2,5,4,6}\n",
    "item_to_remove = 5\n",
    "if item_to_remove in my_set:\n",
    "    my_set.remove(item_to_remove)\n",
    "    print(f\"Item {item_to_remove} removed using remove().\")\n",
    "else:\n",
    "    print(f\"Item {item_to_remove} not found in the set.\")\n",
    "my_set.discard(4)\n",
    "print(f\"Item 4 removed using discard().\")\n",
    "print(\"Updated Set:\", my_set)"
   ]
  },
  {
   "cell_type": "markdown",
   "id": "2b7cfed1",
   "metadata": {},
   "source": [
    "**58-Write a Python program to create an intersection,union,difference and symmetric difference of sets"
   ]
  },
  {
   "cell_type": "code",
   "execution_count": 45,
   "id": "7f94b7fe",
   "metadata": {},
   "outputs": [
    {
     "name": "stdout",
     "output_type": "stream",
     "text": [
      "Set 1: {1, 2, 3, 4, 5}\n",
      "Set 2: {2, 3, 7, 8, 9}\n",
      "Intersection: {2, 3}\n",
      "Union: {1, 2, 3, 4, 5, 7, 8, 9}\n",
      "Difference (Set 1 - Set 2): {1, 4, 5}\n",
      "Symmetric Difference: {1, 4, 5, 7, 8, 9}\n"
     ]
    }
   ],
   "source": [
    "set1 = {1,2,3,4,5}\n",
    "set2 = {9,3,8,2,7}\n",
    "intersection = set1 & set2\n",
    "union = set1 | set2\n",
    "difference = set1 - set2\n",
    "symmetric_difference = set1 ^ set2\n",
    "print(\"Set 1:\", set1)\n",
    "print(\"Set 2:\", set2)\n",
    "print(\"Intersection:\", intersection)\n",
    "print(\"Union:\", union)\n",
    "print(\"Difference (Set 1 - Set 2):\", difference)\n",
    "print(\"Symmetric Difference:\", symmetric_difference)"
   ]
  },
  {
   "cell_type": "markdown",
   "id": "b94931e2",
   "metadata": {},
   "source": [
    "**59-Write a Python program to find the maximum and minimum values in a set"
   ]
  },
  {
   "cell_type": "code",
   "execution_count": 47,
   "id": "203f9600",
   "metadata": {},
   "outputs": [
    {
     "name": "stdout",
     "output_type": "stream",
     "text": [
      "Set: {50, 20, 40, 10, 30}\n",
      "Maximum Value: 50\n",
      "Minimum Value: 10\n"
     ]
    }
   ],
   "source": [
    "my_set = {10, 20, 30, 40, 50}\n",
    "max_value = max(my_set)\n",
    "min_value = min(my_set)\n",
    "print(\"Set:\", my_set)\n",
    "print(\"Maximum Value:\", max_value)\n",
    "print(\"Minimum Value:\", min_value)"
   ]
  },
  {
   "cell_type": "markdown",
   "id": "255fd554",
   "metadata": {},
   "source": [
    "**60- Write a Python program that finds all pairs of elements in a list whose sum is equal to a given value."
   ]
  },
  {
   "cell_type": "code",
   "execution_count": 49,
   "id": "c2d94e1f",
   "metadata": {},
   "outputs": [
    {
     "name": "stdout",
     "output_type": "stream",
     "text": [
      "Pairs with sum 10 : [(4, 6)]\n"
     ]
    }
   ],
   "source": [
    "numbers = [1,4,3,2,5,6]\n",
    "target_sum = 10\n",
    "pairs = []\n",
    "for i in range(len(numbers)):\n",
    "    for j in range(i + 1, len(numbers)):\n",
    "        if numbers[i] + numbers[j] == target_sum:\n",
    "            pairs.append((numbers[i], numbers[j]))\n",
    "print(\"Pairs with sum\", target_sum, \":\", pairs)"
   ]
  },
  {
   "cell_type": "code",
   "execution_count": null,
   "id": "7ea8694f-25bf-4f27-a9c7-60d33a8a18a2",
   "metadata": {},
   "outputs": [],
   "source": []
  }
 ],
 "metadata": {
  "kernelspec": {
   "display_name": "Python 3 (ipykernel)",
   "language": "python",
   "name": "python3"
  },
  "language_info": {
   "codemirror_mode": {
    "name": "ipython",
    "version": 3
   },
   "file_extension": ".py",
   "mimetype": "text/x-python",
   "name": "python",
   "nbconvert_exporter": "python",
   "pygments_lexer": "ipython3",
   "version": "3.12.4"
  }
 },
 "nbformat": 4,
 "nbformat_minor": 5
}
